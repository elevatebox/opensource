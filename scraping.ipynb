{
  "nbformat": 4,
  "nbformat_minor": 0,
  "metadata": {
    "colab": {
      "provenance": [],
      "authorship_tag": "ABX9TyMCQ0ulv3n3WZiZbLq5D9qi",
      "include_colab_link": true
    },
    "kernelspec": {
      "name": "python3",
      "display_name": "Python 3"
    },
    "language_info": {
      "name": "python"
    }
  },
  "cells": [
    {
      "cell_type": "markdown",
      "metadata": {
        "id": "view-in-github",
        "colab_type": "text"
      },
      "source": [
        "<a href=\"https://colab.research.google.com/github/Anshu20-bit/opensource/blob/main/scraping.ipynb\" target=\"_parent\"><img src=\"https://colab.research.google.com/assets/colab-badge.svg\" alt=\"Open In Colab\"/></a>"
      ]
    },
    {
      "cell_type": "code",
      "execution_count": null,
      "metadata": {
        "colab": {
          "base_uri": "https://localhost:8080/"
        },
        "id": "KXa_GEbJfmRP",
        "outputId": "ba73a5f0-24c9-4c1f-9d06-0d7c922474a3"
      },
      "outputs": [
        {
          "output_type": "stream",
          "name": "stdout",
          "text": [
            "Title: Senior Software Engineer - E3, Job Type: fulltime, Location: N/A, Link: https://www.ycombinator.com/companies/instawork/jobs/534Crww-senior-software-engineer-e3\n",
            "Title: Software Engineer - E2, Job Type: fulltime, Location: N/A, Link: https://www.ycombinator.com/companies/instawork/jobs/xTVdNzJ-software-engineer-e2\n",
            "Title: Full Stack Engineer, Job Type: fulltime, Location: N/A, Link: https://www.ycombinator.com/companies/givecampus/jobs/NJQAJaLHz-full-stack-engineer\n",
            "Title: Senior Engineering Manager, Core Services, Job Type: fulltime, Location: N/A, Link: https://www.ycombinator.com/companies/onesignal/jobs/Cq9rRHH-senior-engineering-manager-core-services\n",
            "Title: Staff Software Engineer, Email Team, Job Type: fulltime, Location: N/A, Link: https://www.ycombinator.com/companies/onesignal/jobs/wgzWv5r-staff-software-engineer-email-team\n",
            "Title: Sr. Data Scientist - Product Analytics - Hybrid 3 days in SF, Job Type: fulltime, Location: N/A, Link: https://www.ycombinator.com/companies/cambly/jobs/q4VzDip-sr-data-scientist-product-analytics-hybrid-3-days-in-sf\n",
            "Title: Staff Platform Engineer - Hybrid 3 days in SF, Job Type: fulltime, Location: N/A, Link: https://www.ycombinator.com/companies/cambly/jobs/FrFzuon-staff-platform-engineer-hybrid-3-days-in-sf\n",
            "Title: Founding Engineer - AI & Full-Stack, Job Type: fulltime, Location: N/A, Link: https://www.ycombinator.com/companies/pathpilot/jobs/GlywVaz-founding-engineer-ai-full-stack\n",
            "Title: Founding Full Stack Engineer, Job Type: fulltime, Location: N/A, Link: https://www.ycombinator.com/companies/brighterway/jobs/r9ZyE6o-founding-full-stack-engineer\n",
            "Title: Founding Machine Learning Engineer, Job Type: fulltime, Location: N/A, Link: https://www.ycombinator.com/companies/brighterway/jobs/wN35P2I-founding-machine-learning-engineer\n",
            "Title: Senior Software Engineer, Job Type: fulltime, Location: N/A, Link: https://www.ycombinator.com/companies/distro/jobs/nZB8oET-senior-software-engineer\n",
            "Title: Software Engineer, Job Type: fulltime, Location: N/A, Link: https://www.ycombinator.com/companies/distro/jobs/ZXmJGee-software-engineer\n",
            "Title: Software Developer, Job Type: fulltime, Location: N/A, Link: https://www.ycombinator.com/companies/hestus-inc/jobs/LcCNQbT-software-developer\n",
            "Title: Founding Full Stack Engineer, Job Type: fulltime, Location: N/A, Link: https://www.ycombinator.com/companies/olive-legal/jobs/wC2a0D4-founding-full-stack-engineer\n",
            "Title: ML Research Engineer, Job Type: fulltime, Location: N/A, Link: https://www.ycombinator.com/companies/weave-robotics/jobs/H2JWKWu-ml-research-engineer\n",
            "Title: Robotics Software Engineer, Job Type: fulltime, Location: N/A, Link: https://www.ycombinator.com/companies/weave-robotics/jobs/Syd8TF5-robotics-software-engineer\n",
            "Title: Senior Full Stack Engineer (SF Bay), Job Type: fulltime, Location: N/A, Link: https://www.ycombinator.com/companies/tandem-2/jobs/9EzG3aF-senior-full-stack-engineer-sf-bay\n",
            "Title: Senior Full Stack Engineer (remote non-US), Job Type: fulltime, Location: N/A, Link: https://www.ycombinator.com/companies/tandem-2/jobs/eD64qOr-senior-full-stack-engineer-remote-non-us\n",
            "Title: Founding Product Engineer, Job Type: fulltime, Location: N/A, Link: https://www.ycombinator.com/companies/tivara/jobs/6Hhb9Oo-founding-product-engineer\n",
            "Title: Backend software engineer, Job Type: fulltime, Location: N/A, Link: https://www.ycombinator.com/companies/offstream/jobs/Tq7yiEy-backend-software-engineer\n",
            "Data has been saved to jobs_output.csv and jobs_output.json.\n"
          ]
        }
      ],
      "source": [
        "import requests\n",
        "from bs4 import BeautifulSoup\n",
        "import csv\n",
        "import json\n",
        "\n",
        "# URL of the job listings page (replace with the actual URL)\n",
        "url = \"https://www.workatastartup.com/jobs\"  # Replace this with the actual job listing URL\n",
        "\n",
        "# Make a request to the website\n",
        "response = requests.get(url)\n",
        "\n",
        "# Check if the request was successful\n",
        "if response.status_code == 200:\n",
        "    # Parse the content with BeautifulSoup\n",
        "    soup = BeautifulSoup(response.content, 'html.parser')\n",
        "\n",
        "    # Find all job listings\n",
        "    job_elements = soup.find_all('div', class_='flex-none sm:flex mt-2 flex-wrap')[:20]  # Limit to 20 jobs\n",
        "\n",
        "    jobs_data = []\n",
        "\n",
        "    for job in job_elements:\n",
        "        # Extract job title\n",
        "        job_name = job.find('div', class_='job-name').find('a')\n",
        "        title = job_name.get_text(strip=True) if job_name else \"N/A\"\n",
        "        job_link = job_name['href'] if job_name else \"N/A\"\n",
        "\n",
        "        # Extract job details\n",
        "        job_details = job.find('p', class_='job-details')\n",
        "        job_type = job_details.find('span', class_='capitalize text-sm font-thin').get_text(strip=True) if job_details else \"N/A\"\n",
        "        location_info = job_details.find_all('span', class_='before:inline-block before:content-[''][before:mx-3 before:my-auto before:text-xs before:px-1 before:w-2 before:h-2 before:rounded-md before:bg-gray-700 capitalize text-sm font-thin')\n",
        "        location = location_info[0].get_text(strip=True) if len(location_info) > 0 else \"N/A\"\n",
        "\n",
        "        # Prepare job data\n",
        "        jobs_data.append({\n",
        "            \"title\": title,\n",
        "            \"job_type\": job_type,\n",
        "            \"location\": location,\n",
        "            \"link\": job_link\n",
        "        })\n",
        "\n",
        "        # Print to console\n",
        "        print(f\"Title: {title}, Job Type: {job_type}, Location: {location}, Link: {job_link}\")\n",
        "\n",
        "    # Save to CSV\n",
        "    with open('jobs_output.csv', 'w', newline='') as csvfile:\n",
        "        fieldnames = jobs_data[0].keys()\n",
        "        writer = csv.DictWriter(csvfile, fieldnames=fieldnames)\n",
        "\n",
        "        writer.writeheader()\n",
        "        writer.writerows(jobs_data)\n",
        "\n",
        "    # Save to JSON\n",
        "    with open('jobs_output.json', 'w') as jsonfile:\n",
        "        json.dump(jobs_data, jsonfile, indent=4)\n",
        "\n",
        "    print(\"Data has been saved to jobs_output.csv and jobs_output.json.\")\n",
        "else:\n",
        "    print(\"Failed to retrieve the webpage. Status code:\", response.status_code)\n"
      ]
    }
  ]
}